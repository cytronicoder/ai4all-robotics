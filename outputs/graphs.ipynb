{
  "nbformat": 4,
  "nbformat_minor": 0,
  "metadata": {
    "kernelspec": {
      "display_name": "Python 3",
      "language": "python",
      "name": "python3"
    },
    "language_info": {
      "codemirror_mode": {
        "name": "ipython",
        "version": 3
      },
      "file_extension": ".py",
      "mimetype": "text/x-python",
      "name": "python",
      "nbconvert_exporter": "python",
      "pygments_lexer": "ipython3",
      "version": "3.7.7"
    },
    "colab": {
      "provenance": []
    }
  },
  "cells": [
    {
      "cell_type": "markdown",
      "metadata": {
        "id": "m6LGmJ-T23JT"
      },
      "source": [
        "<header style=\"padding: 4em 0 0em 0\">\n",
        "    <img src=\"http://brentyi.github.io/filestore/ai4all_logo.svg\" style=\"width: 30em; height: auto; margin: 0;\" />\n",
        "    <h3 style=\"margin: 1em 0 0 0;\">\n",
        "        <strong>Graphs I</strong>\n",
        "        <span style=\"color: #777\">\n",
        "        &nbsp;&blacksquare;&nbsp;\n",
        "        Robotics, Summer 2023</span>\n",
        "    </h3>\n",
        "</header>"
      ]
    },
    {
      "cell_type": "markdown",
      "metadata": {
        "id": "1ektA4Ny23JW"
      },
      "source": [
        "<hr style=\"border-top: 0.4em solid #eee;\" />\n",
        "\n",
        "In this notebook, we'll take a whirlwind tour of graphs and graph search algorithms.\n",
        "\n",
        "Our core goals will be to:\n",
        "1. Understand how satelite images can correspond to 2D NumPy arrays.\n",
        "2. Understand how fly-zone constraints can induce a traversable graph on these maps.\n",
        "3. Implement the uniform cost search (breadth first search) algorithm to route a drone.\n",
        "\n",
        "<hr style=\"border-top: 0.4em solid #eee;\" />"
      ]
    },
    {
      "cell_type": "code",
      "metadata": {
        "cellView": "form",
        "id": "6W6xiPJm67MF"
      },
      "source": [
        "#@title Helper functions\n",
        "import numpy as np\n",
        "import matplotlib.pyplot as plt\n",
        "\n",
        "def default_cmap(x):\n",
        "    if x == 1:\n",
        "        return [0, 255, 0]\n",
        "    else:\n",
        "        return [255, 0, 0]\n",
        "\n",
        "def colored(A, cmap):\n",
        "    im = np.zeros((A.shape[0], A.shape[1], 3), dtype=np.int)\n",
        "    for i in range(A.shape[0]):\n",
        "        for j in range(A.shape[1]):\n",
        "            im[i, j] = cmap(A[i, j])\n",
        "    return im\n",
        "\n",
        "def visualize_adjacency(title, A):\n",
        "    \"\"\"Visualize an adjacency matrix using matplotlib.\n",
        "\n",
        "    Args:\n",
        "        title (str): Name of image we're visualizing.\n",
        "        A (np.ndarray): Adjacency matrix we're visualizing.\n",
        "    \"\"\"\n",
        "    assert type(title) == str, \"Title not a string!\"\n",
        "    assert len(A.shape) == 2, \"Image array not 2D!\"\n",
        "\n",
        "    plt.figure(figsize=(7, 7))\n",
        "\n",
        "    # Visualize adjacency matrix\n",
        "    # We manually set the black value with `vmin`, and the white value with `vmax`\n",
        "    plt.imshow(A, vmin=0.0, vmax=1.0, cmap=\"gray\")\n",
        "\n",
        "    # Give our plot a title -- this is purely cosmetic!\n",
        "    plt.title(f\"{title}, shape={A.shape}\")\n",
        "\n",
        "    # Show image\n",
        "    plt.show()\n",
        "\n",
        "def visualize_map(title, M, A=None, start=None, end=None, path=None, cmap=default_cmap):\n",
        "    \"\"\"Visualize a 2D array using matplotlib.\n",
        "\n",
        "    Args:\n",
        "        title (str): Name of map we're visualizing.\n",
        "        M (np.ndarray): Map we're visualizing. Shape should be `(rows, cols)`.\n",
        "        A (np.ndarray): Adjacency matrix of graph.\n",
        "    \"\"\"\n",
        "    assert type(title) == str, \"Title not a string!\"\n",
        "    assert len(M.shape) == 2, \"Map array not 2D!\"\n",
        "\n",
        "    plt.imshow(colored(M, cmap))\n",
        "    if start is not None:\n",
        "        plt.scatter(start[1], start[0], color=\"blue\", label=\"start\")\n",
        "    if end is not None:\n",
        "        plt.scatter(end[1], end[0], color=\"yellow\", label=\"end\")\n",
        "\n",
        "    m, n = M.shape\n",
        "\n",
        "    def ids(l):\n",
        "        p = [l // n, l % n]\n",
        "        return p\n",
        "\n",
        "    def flip(t):\n",
        "        return [t[1], t[0]]\n",
        "\n",
        "    if A is not None:\n",
        "\n",
        "        for i in range(A.shape[0]):\n",
        "            for j in range(A.shape[1]):\n",
        "                if A[i, j]:\n",
        "                    # print(f\"({i}, {j}) {ids(i)} -> {ids(j)}\")\n",
        "                    icoords = flip(ids(i))\n",
        "                    jcoords = flip(ids(j))\n",
        "                    x = [icoords[0], jcoords[0]]\n",
        "                    y = [icoords[1], jcoords[1]]\n",
        "                    plt.scatter(ids(i)[1], ids(i)[0], color=\"black\")#, label=f\"{i}\")\n",
        "                    plt.plot(x, y, color=\"black\", alpha=0.5)#, label=f\"{i} -> {j}\")\n",
        "\n",
        "    if path is not None:\n",
        "        for i in range(len(path)-1):\n",
        "            u, v = path[i], path[i+1]\n",
        "\n",
        "            ucoords = flip(ids(u))\n",
        "            vcoords = flip(ids(v))\n",
        "            x = [ucoords[0], vcoords[0]]\n",
        "            y = [ucoords[1], vcoords[1]]\n",
        "            plt.plot(x, y, color=\"black\", alpha=0.5)#, label=f\"{i} -> {j}\")\n",
        "\n",
        "    if start or end:\n",
        "        plt.legend()\n",
        "\n",
        "    plt.title(title)\n",
        "    plt.show()\n",
        "\n",
        "def visualize_costs(title, M, costs, start=None, end=None):\n",
        "    m, n = M.shape\n",
        "    C = np.zeros(M.shape)\n",
        "    for i in range(m):\n",
        "        for j in range(n):\n",
        "            C[i, j] = costs[i * n + j]\n",
        "\n",
        "    if start is not None:\n",
        "        plt.scatter(start[1], start[0], color=\"blue\", label=\"start\")\n",
        "    if end is not None:\n",
        "        plt.scatter(end[1], end[0], color=\"yellow\", label=\"end\")\n",
        "    #np.max([x for x in costs if x != np.inf])\n",
        "    plt.imshow(C)\n",
        "    plt.colorbar()\n",
        "    if start or end:\n",
        "        plt.legend()\n",
        "    plt.title(title)\n",
        "    plt.show()\n",
        "\n",
        "def plot_path(M, path):\n",
        "    m, n = B.shape\n",
        "    plt.imshow(colored(B, default_cmap))\n",
        "\n",
        "    def ids(l):\n",
        "        p = [l // m, l % m]\n",
        "        return p\n",
        "\n",
        "    def flip(t):\n",
        "        return [t[1], t[0]]\n",
        "\n",
        "    for i in range(len(p)-1):\n",
        "        u, v = p[i], p[i+1]\n",
        "\n",
        "        ucoords = flip(ids(u))\n",
        "        vcoords = flip(ids(v))\n",
        "        x = [ucoords[0], vcoords[0]]\n",
        "        y = [ucoords[1], vcoords[1]]\n",
        "        plt.plot(x, y, color=\"black\", alpha=0.5)#, label=f\"{i} -> {j}\")\n",
        "\n",
        "\n",
        "def visualize_path(M, p):\n",
        "    # p is the path\n",
        "\n",
        "    from IPython.display import HTML\n",
        "    from matplotlib.animation import FuncAnimation\n",
        "    from matplotlib.patches import Rectangle\n",
        "    import matplotlib.pyplot as plt\n",
        "    import numpy as np\n",
        "\n",
        "    n = 2\n",
        "    T = 5\n",
        "    D = 0.4\n",
        "\n",
        "    def interpolate(init, final):\n",
        "        return np.tile(init, (1, T)) + (final - init) * np.linspace(0, 1, T)\n",
        "\n",
        "    m, n = M.shape\n",
        "\n",
        "    def ids(l):\n",
        "        return [l // n, l % n]\n",
        "\n",
        "    def flip(t):\n",
        "        return [t[1], t[0]]\n",
        "\n",
        "    ps = np.zeros((2, T * (len(p)-1)))\n",
        "    for i in range(len(p)-1):\n",
        "        u, v = p[i], p[i+1]\n",
        "        ucoords = np.array(flip(ids(u))).reshape((2, 1))\n",
        "        vcoords = np.array(flip(ids(v))).reshape((2, 1))\n",
        "        ps[:, i*T:T*(i+1)] = interpolate(ucoords, vcoords)\n",
        "\n",
        "\n",
        "    # from http://python4econ.blogspot.com/2013/03/matlabs-cylinder-command-in-python.html\n",
        "    def cylinder(r, n):\n",
        "        \"\"\"\n",
        "        Returns the unit cylinder that corresponds to the curve r.\n",
        "        INPUTS:  r - a vector of radii\n",
        "                 n - number of coordinates to return for each element in r\n",
        "\n",
        "        OUTPUTS: x,y,z - coordinates of points\n",
        "        \"\"\"\n",
        "\n",
        "        # ensure that r is a column vector\n",
        "        r = np.atleast_2d(r)\n",
        "        r_rows, r_cols = r.shape\n",
        "\n",
        "        if r_cols > r_rows:\n",
        "            r = r.T\n",
        "        # find points along x and y axes\n",
        "        points = np.linspace(0, 2 * np.pi, n + 1)\n",
        "        x = np.cos(points) * r\n",
        "        y = np.sin(points) * r\n",
        "\n",
        "        # find points along z axis\n",
        "        rpoints = np.atleast_2d(np.linspace(0, 1, len(r)))\n",
        "        z = np.ones((1, n + 1)) * rpoints.T\n",
        "\n",
        "        return x, y, z\n",
        "\n",
        "\n",
        "    x, y, z = cylinder(D / 2, 100)\n",
        "    x = x.squeeze()\n",
        "    y = y.squeeze()\n",
        "    z = z.squeeze()\n",
        "\n",
        "    fig, ax = plt.subplots(figsize=(10, 10))\n",
        "    plt.close(fig)\n",
        "\n",
        "    ax.axis(\"equal\")\n",
        "    #ax.axis([-1.5, 1.5, -1.5, 1.5])\n",
        "    p_data = ax.plot(ps[0, :], ps[1, :], color=\"C0\")[0]\n",
        "    ax.scatter(ps[0, :], ps[1, :], color=\"C0\", marker=\".\")\n",
        "\n",
        "    ax.imshow(colored(M, default_cmap))\n",
        "    def update(i):\n",
        "        p_data.set_data(ps[0, i] + x, ps[1, i] + y)\n",
        "        ax.set_title(f\"i = {i}\")\n",
        "\n",
        "\n",
        "    ani = FuncAnimation(fig, update, interval=100, frames=T*(len(p) - 1))\n",
        "    return HTML(ani.to_html5_video())"
      ],
      "execution_count": null,
      "outputs": []
    },
    {
      "cell_type": "code",
      "metadata": {
        "id": "zOttDS4823JY"
      },
      "source": [
        "import numpy as np\n",
        "# from google.colab import drive\n",
        "# drive.mount('/content/drive/')\n",
        "# drive_path = '/content/drive/My Drive/AI4ALL Robotics 2021/Colab notebooks/Graph assignment/' # path to fig folder\n",
        "#from graph_helpers import visualize_adjacency, visualize_map, visualize_costs, visualize_path"
      ],
      "execution_count": null,
      "outputs": []
    },
    {
      "cell_type": "markdown",
      "metadata": {
        "id": "OBa2xSjM23JZ"
      },
      "source": [
        "## 1. Map to Matrix"
      ]
    },
    {
      "cell_type": "markdown",
      "metadata": {
        "id": "k_AYcjXI23Ja"
      },
      "source": [
        "<p>First, let's remember that we are taking a map like this:</p>\n",
        "\n",
        "[Stanford overhead view](https://drive.google.com/file/d/1EiaSdBa1uxcL5tduT7jA58ZM4dXduHpB/view?usp=sharing)\n",
        "\n",
        "<p>And we grid it up like this:</p>\n",
        "\n",
        "[Stanford overhead view split into a grid](https://drive.google.com/file/d/1sZtc7jW-6OOmSJnEmJBIRknIgr4VSVJA/view?usp=sharing)"
      ]
    },
    {
      "cell_type": "markdown",
      "metadata": {
        "id": "p4syNzo523Jb"
      },
      "source": [
        "This looks like a two dimensional array, right?\n",
        "\n",
        "Let's create a rectangular array with zeros."
      ]
    },
    {
      "cell_type": "code",
      "metadata": {
        "id": "T6rGv0vg23Jb",
        "colab": {
          "base_uri": "https://localhost:8080/",
          "height": 524
        },
        "outputId": "64456104-e80a-49da-8c4d-93f6af74a1ef"
      },
      "source": [
        "a = np.zeros((15, 20))\n",
        "visualize_map(\"Empty Map\", a)"
      ],
      "execution_count": null,
      "outputs": [
        {
          "output_type": "stream",
          "name": "stderr",
          "text": [
            "<ipython-input-1-36a8ca557c06>:12: DeprecationWarning: `np.int` is a deprecated alias for the builtin `int`. To silence this warning, use `int` by itself. Doing this will not modify any behavior and is safe. When replacing `np.int`, you may wish to use e.g. `np.int64` or `np.int32` to specify the precision. If you wish to review your current use, check the release note link for additional information.\n",
            "Deprecated in NumPy 1.20; for more details and guidance: https://numpy.org/devdocs/release/1.20.0-notes.html#deprecations\n",
            "  im = np.zeros((A.shape[0], A.shape[1], 3), dtype=np.int)\n"
          ]
        },
        {
          "output_type": "display_data",
          "data": {
            "text/plain": [
              "<Figure size 640x480 with 1 Axes>"
            ],
            "image/png": "[encoded data removed]"
          },
          "metadata": {}
        }
      ]
    },
    {
      "cell_type": "markdown",
      "metadata": {
        "id": "YZ-CfDeS23Jc"
      },
      "source": [
        "Why is it red? Well, we want the value `a[i, j]` to encode something about that cell.\n",
        "\n",
        "When we were working with images, each cell had 3 numbers (in the case of RGB or HSL), but now it has one.\n",
        "\n",
        "We decide what that number means. Here we are saying, visualize 0 as red!"
      ]
    },
    {
      "cell_type": "markdown",
      "metadata": {
        "id": "vs2FNJ-523Jd"
      },
      "source": [
        "Now let's see what color 1 is visualized as:"
      ]
    },
    {
      "cell_type": "code",
      "metadata": {
        "id": "c027wHAK23Je"
      },
      "source": [
        "b = np.zeros((15, 20))\n",
        "b[0, 0] = 1"
      ],
      "execution_count": null,
      "outputs": []
    },
    {
      "cell_type": "code",
      "metadata": {
        "id": "ygURIDNz23Je",
        "colab": {
          "base_uri": "https://localhost:8080/",
          "height": 524
        },
        "outputId": "54fa06eb-e311-46c5-a070-0059a3e6ed1d"
      },
      "source": [
        "visualize_map(\"Empty Map with one green cell\", b)"
      ],
      "execution_count": null,
      "outputs": [
        {
          "output_type": "stream",
          "name": "stderr",
          "text": [
            "<ipython-input-1-36a8ca557c06>:12: DeprecationWarning: `np.int` is a deprecated alias for the builtin `int`. To silence this warning, use `int` by itself. Doing this will not modify any behavior and is safe. When replacing `np.int`, you may wish to use e.g. `np.int64` or `np.int32` to specify the precision. If you wish to review your current use, check the release note link for additional information.\n",
            "Deprecated in NumPy 1.20; for more details and guidance: https://numpy.org/devdocs/release/1.20.0-notes.html#deprecations\n",
            "  im = np.zeros((A.shape[0], A.shape[1], 3), dtype=np.int)\n"
          ]
        },
        {
          "output_type": "display_data",
          "data": {
            "text/plain": [
              "<Figure size 640x480 with 1 Axes>"
            ],
            "image/png": "[encoded data removed]"
          },
          "metadata": {}
        }
      ]
    },
    {
      "cell_type": "markdown",
      "metadata": {
        "id": "P-vWMjIc23Jf"
      },
      "source": [
        "Here we are saying to visualize the number 1 as green!"
      ]
    },
    {
      "cell_type": "markdown",
      "metadata": {
        "id": "ynDgdKEf23Jf"
      },
      "source": [
        "We can change the colors that are shown by the `visualize_map` function via the `cmap` named argument.\n",
        "\n",
        "`cmap` takes a function that maps floats to lists of`[r,g,b]` values. See below.\n",
        "\n",
        "Let's flip the colors:"
      ]
    },
    {
      "cell_type": "code",
      "metadata": {
        "id": "4RKhHC_M23Jf",
        "colab": {
          "base_uri": "https://localhost:8080/",
          "height": 524
        },
        "outputId": "8c375340-f03b-4224-c1fb-0b94afc98ba0"
      },
      "source": [
        "def flipped_cmap(x):\n",
        "    if x == 0:\n",
        "        return [0, 255, 0]\n",
        "    else:\n",
        "        return [255, 0, 0]\n",
        "\n",
        "visualize_map(\"Empty Map with one green cell\", b, cmap=flipped_cmap)"
      ],
      "execution_count": null,
      "outputs": [
        {
          "output_type": "stream",
          "name": "stderr",
          "text": [
            "<ipython-input-1-36a8ca557c06>:12: DeprecationWarning: `np.int` is a deprecated alias for the builtin `int`. To silence this warning, use `int` by itself. Doing this will not modify any behavior and is safe. When replacing `np.int`, you may wish to use e.g. `np.int64` or `np.int32` to specify the precision. If you wish to review your current use, check the release note link for additional information.\n",
            "Deprecated in NumPy 1.20; for more details and guidance: https://numpy.org/devdocs/release/1.20.0-notes.html#deprecations\n",
            "  im = np.zeros((A.shape[0], A.shape[1], 3), dtype=np.int)\n"
          ]
        },
        {
          "output_type": "display_data",
          "data": {
            "text/plain": [
              "<Figure size 640x480 with 1 Axes>"
            ],
            "image/png": "[encoded data removed]"
          },
          "metadata": {}
        }
      ]
    },
    {
      "cell_type": "markdown",
      "metadata": {
        "id": "LAqRJJLq23Jg"
      },
      "source": [
        "Ok! So we have a \"map\" which is a numpy array and cells can be 0 or 1. We can visualize it.\n",
        "\n",
        "Now let's go back to green and red, and use these to visualize where we can fly.\n",
        "\n",
        "Think about green for grass and red for lava. We can walk on grass, but not on lava!"
      ]
    },
    {
      "cell_type": "markdown",
      "metadata": {
        "id": "0rWfF6L_23Jg"
      },
      "source": [
        "## 2. Types of Cells\n",
        "\n",
        "<p>Suppose the following cells, indicated with a red dot are \"flyable\":</p>\n",
        "\n",
        "[Stanford map with flyable grid](https://drive.google.com/file/d/1XHKsvrZmX61B89Q52UKyXAhJXto6CJwE/view?usp=sharing)"
      ]
    },
    {
      "cell_type": "markdown",
      "metadata": {
        "id": "MsqmN7cN23Jg"
      },
      "source": [
        "Let's visualize this flyable zone as green, and the unflyable as red"
      ]
    },
    {
      "cell_type": "code",
      "metadata": {
        "id": "emCF1_yU23Jh",
        "colab": {
          "base_uri": "https://localhost:8080/",
          "height": 524
        },
        "outputId": "694bcc3c-2a0e-4132-a387-e1c04c5c0ebc"
      },
      "source": [
        "stanford_map = np.zeros((15, 20))\n",
        "stanford_map[0, 9:11] = 1\n",
        "stanford_map[1, 8:10] = 1\n",
        "stanford_map[2, 8:10] = 1\n",
        "stanford_map[3, 7:9] = 1\n",
        "stanford_map[4, 7:9] = 1\n",
        "stanford_map[5, 7:8] = 1\n",
        "stanford_map[6, 6:8] = 1\n",
        "stanford_map[7, 6:8] = 1\n",
        "stanford_map[8, 4:8] = 1\n",
        "visualize_map(\"Stanford Flyable Zones\", stanford_map)"
      ],
      "execution_count": null,
      "outputs": [
        {
          "output_type": "stream",
          "name": "stderr",
          "text": [
            "<ipython-input-1-36a8ca557c06>:12: DeprecationWarning: `np.int` is a deprecated alias for the builtin `int`. To silence this warning, use `int` by itself. Doing this will not modify any behavior and is safe. When replacing `np.int`, you may wish to use e.g. `np.int64` or `np.int32` to specify the precision. If you wish to review your current use, check the release note link for additional information.\n",
            "Deprecated in NumPy 1.20; for more details and guidance: https://numpy.org/devdocs/release/1.20.0-notes.html#deprecations\n",
            "  im = np.zeros((A.shape[0], A.shape[1], 3), dtype=np.int)\n"
          ]
        },
        {
          "output_type": "display_data",
          "data": {
            "text/plain": [
              "<Figure size 640x480 with 1 Axes>"
            ],
            "image/png": "[encoded data removed]"
          },
          "metadata": {}
        }
      ]
    },
    {
      "cell_type": "markdown",
      "metadata": {
        "id": "ML73LkFK23Jh"
      },
      "source": [
        "So now we have a representation for a map.\n",
        "\n",
        "Remember, we want to do search in this map, so now we will construct a graph."
      ]
    },
    {
      "cell_type": "markdown",
      "metadata": {
        "id": "7s2_Wcmr23Jh"
      },
      "source": [
        "## 3. Constructing the graph\n",
        "\n",
        "\n",
        "<p>Since we can only fly in between flyable cells, we are going cells we can fly in as connected, and that induces an undirected graph!<p>\n",
        "\n",
        "[Stanford grid with flyable cells connected with a graph](https://drive.google.com/file/d/198ZywW00nVq6jla6tbxGIBslAMi_8KcG/view?usp=sharing)"
      ]
    },
    {
      "cell_type": "markdown",
      "metadata": {
        "id": "k8KJXcG023Jh"
      },
      "source": [
        "We can use this to build an adjacency matrix!\n",
        "\n",
        "### a) Adjacency matrix review\n",
        "\n",
        "Remember, adjacency matrices are two-dimensional numpy arrays. They are always square!\n",
        "\n",
        "They have values which are either 0 or 1!\n",
        "\n",
        "If the entry `i,j` is 1 that means there is an edge from `i` to `j`.\n",
        "\n",
        "For undirected graphs, adjacency matrices are always symmetric!"
      ]
    },
    {
      "cell_type": "markdown",
      "metadata": {
        "id": "hf8A-SUl23Ji"
      },
      "source": [
        "<div style=\"color: #a00; font-weight: 800; padding: 1em 0; border-top: 0.4em solid #eee;\">Checkoff: Adjacency Matrix Concept</div>\n",
        "\n",
        "What is an adjacency matrix?\n",
        "\n",
        " * How do `1`s and `0`s correspond to edges in an undirected graph?\n",
        " * If our map is `m` by `n`, what is the size of the adjacency matrix?\n",
        "\n",
        "> *Your response here!*"
      ]
    },
    {
      "cell_type": "markdown",
      "metadata": {
        "id": "_BuC4NDI23Ji"
      },
      "source": [
        "### b) Indexing\n",
        "\n",
        "As the first piece, we need to think about how label the nodes of our graph. Since each cell in our `m` by `n` grid corresponds to a vertex, our graph has `mn` nodes!\n",
        "\n",
        "Let's index vertices from left to right, top to bottom. So the top left cell is vertex 0 and the cell below it is vertex `n`. The cell below and to the right of the top left cell is vertex `n+1`."
      ]
    },
    {
      "cell_type": "markdown",
      "metadata": {
        "id": "6qHxBRUi23Ji"
      },
      "source": [
        "<div style=\"color: #a00; font-weight: 800; padding: 1em 0; border-top: 0.4em solid #eee;\">Checkoff: Vertices from Cells</div>\n",
        "Complete the following function, `vertex_of_cell`, which gets the vertex number from  the cell indicies.\n",
        "\n",
        "For example,\n",
        "* `vertex_of_cell([0, 0]) == 0`\n",
        "* `vertex_of_cell([0, 1]) == 1`\n",
        "* `vertex_of_cell([1, 1]) == n+1`"
      ]
    },
    {
      "cell_type": "code",
      "metadata": {
        "id": "81LWAgmE23Jj"
      },
      "source": [
        "def vertex_of_cell(M, i, j):\n",
        "    \"\"\"Get the vertex of a cell\n",
        "\n",
        "    Args:\n",
        "        M (np.ndarray): the map we are working with.\n",
        "        i (int): the row index.\n",
        "        j (int): the column index.\n",
        "    Return:\n",
        "        vertex (int): the vertex\n",
        "    \"\"\"\n",
        "    assert len(M.shape) == 2\n",
        "    m, n = M.shape\n",
        "    # YOUR CODE HERE\n",
        "    # ***** Start of your code *****\n",
        "    assert False, \"Delete this line!\"\n",
        "    # ***** End of your code *****\n",
        "    return vertex"
      ],
      "execution_count": null,
      "outputs": []
    },
    {
      "cell_type": "markdown",
      "metadata": {
        "id": "Oqo48ENb23Jj"
      },
      "source": [
        "<div style=\"color: #a00; font-weight: 800; padding: 1em 0; border-top: 0.4em solid #eee;\">Checkoff: Cells from Vertices</div>\n",
        "Now let's go the other direction, given a vertex let's get what indices it corresponds to in the map."
      ]
    },
    {
      "cell_type": "markdown",
      "metadata": {
        "id": "g8O4amZU23Jk"
      },
      "source": [
        "\n",
        "Complete the function `cell_of_vertex` which maps the vertex index to the cell indices!\n",
        "\n",
        "Hint: remember `//` does integer division and `%` gets the remainder."
      ]
    },
    {
      "cell_type": "code",
      "metadata": {
        "id": "LnZ3fgjz23Jk"
      },
      "source": [
        "def cell_of_vertex(M, k):\n",
        "    \"\"\"Get cell corresponding to the vertex.\n",
        "\n",
        "    Args:\n",
        "        M (np.ndarray): the map we are working with.\n",
        "        k (int): the vertex index.\n",
        "\n",
        "    Return:\n",
        "        i (int): the row index.\n",
        "        j (int): the column index.\n",
        "    \"\"\"\n",
        "    assert len(M.shape) == 2\n",
        "    m, n = M.shape\n",
        "\n",
        "    # YOUR CODE HERE\n",
        "    # ***** Start of your code *****\n",
        "\n",
        "    # ***** End of your code *****\n",
        "    return i,j"
      ],
      "execution_count": null,
      "outputs": []
    },
    {
      "cell_type": "markdown",
      "metadata": {
        "id": "FIzCC_YT23Jk"
      },
      "source": [
        "### c) Implementation\n",
        "\n",
        "Now let's actually construct the adjacency matrix. Two vertices will be connected if they are each flyable!"
      ]
    },
    {
      "cell_type": "markdown",
      "metadata": {
        "id": "IneZd0eR23Jl"
      },
      "source": [
        "<div style=\"color: #a00; font-weight: 800; padding: 1em 0; border-top: 0.4em solid #eee;\">Checkoff: Constructing adjacency matrix from map</div>\n",
        "\n",
        "Complete the function `adjacency_matrix`. Remember two cells should be connected by an edge in the graph if they are each flyable.\n",
        "\n",
        "Also remember that the adjacency matrix for undirected graphs is symmetric, which means `A[i, j] = A[j, i]`."
      ]
    },
    {
      "cell_type": "markdown",
      "metadata": {
        "id": "oZgpemvB23Jl"
      },
      "source": [
        "Hint: you should probably loop over the cells!"
      ]
    },
    {
      "cell_type": "code",
      "metadata": {
        "id": "2ajmRyKc23Jl"
      },
      "source": [
        "def adjacency_matrix(M, flyable=1):\n",
        "    \"\"\"Visualize a 2D array using matplotlib.\n",
        "    All inputs values should be normalized 0.0-1.0.\n",
        "\n",
        "    Args:\n",
        "        M (np.ndarray): the map we are working with.\n",
        "        flyable (int): what number indicates a flyable cell; defauls to 1.\n",
        "    \"\"\"\n",
        "    assert len(M.shape) == 2\n",
        "    # Size of map\n",
        "    m, n = M.shape\n",
        "\n",
        "    # Number of vertices\n",
        "    o = m * n\n",
        "\n",
        "    # A for *A*djacency matrix\n",
        "    A = np.zeros((o, o))\n",
        "\n",
        "    # YOUR CODE HERE\n",
        "    # ***** Start of your code *****\n",
        "    assert False, \"Delete this line!\"\n",
        "    # ***** End of your code *****\n",
        "\n",
        "    return A"
      ],
      "execution_count": null,
      "outputs": []
    },
    {
      "cell_type": "code",
      "metadata": {
        "id": "HB5Z4oCG23Jl",
        "colab": {
          "base_uri": "https://localhost:8080/",
          "height": 288
        },
        "outputId": "7bdcf26c-0096-4762-c39e-8e2545bdc6d4"
      },
      "source": [
        "stanford_adjacency = adjacency_matrix(stanford_map)"
      ],
      "execution_count": null,
      "outputs": [
        {
          "output_type": "error",
          "ename": "AssertionError",
          "evalue": "ignored",
          "traceback": [
            "\u001b[0;31m---------------------------------------------------------------------------\u001b[0m",
            "\u001b[0;31mAssertionError\u001b[0m                            Traceback (most recent call last)",
            "\u001b[0;32m<ipython-input-11-27c7ae565180>\u001b[0m in \u001b[0;36m<cell line: 1>\u001b[0;34m()\u001b[0m\n\u001b[0;32m----> 1\u001b[0;31m \u001b[0mstanford_adjacency\u001b[0m \u001b[0;34m=\u001b[0m \u001b[0madjacency_matrix\u001b[0m\u001b[0;34m(\u001b[0m\u001b[0mstanford_map\u001b[0m\u001b[0;34m)\u001b[0m\u001b[0;34m\u001b[0m\u001b[0;34m\u001b[0m\u001b[0m\n\u001b[0m",
            "\u001b[0;32m<ipython-input-10-aac223c7f163>\u001b[0m in \u001b[0;36madjacency_matrix\u001b[0;34m(M, flyable)\u001b[0m\n\u001b[1;32m     19\u001b[0m     \u001b[0;31m# YOUR CODE HERE\u001b[0m\u001b[0;34m\u001b[0m\u001b[0;34m\u001b[0m\u001b[0m\n\u001b[1;32m     20\u001b[0m     \u001b[0;31m# ***** Start of your code *****\u001b[0m\u001b[0;34m\u001b[0m\u001b[0;34m\u001b[0m\u001b[0m\n\u001b[0;32m---> 21\u001b[0;31m     \u001b[0;32massert\u001b[0m \u001b[0;32mFalse\u001b[0m\u001b[0;34m,\u001b[0m \u001b[0;34m\"Delete this line!\"\u001b[0m\u001b[0;34m\u001b[0m\u001b[0;34m\u001b[0m\u001b[0m\n\u001b[0m\u001b[1;32m     22\u001b[0m     \u001b[0;31m# ***** End of your code *****\u001b[0m\u001b[0;34m\u001b[0m\u001b[0;34m\u001b[0m\u001b[0m\n\u001b[1;32m     23\u001b[0m \u001b[0;34m\u001b[0m\u001b[0m\n",
            "\u001b[0;31mAssertionError\u001b[0m: Delete this line!"
          ]
        }
      ]
    },
    {
      "cell_type": "markdown",
      "metadata": {
        "id": "bQggY1lp23Jm"
      },
      "source": [
        "<div style=\"color: #a00; font-weight: 800; padding: 1em 0; border-top: 0.4em solid #eee;\">Checkoff: Adjacency Matrix</div>\n",
        "\n",
        "Run the following code cell to visualize the entries, what do you see?\n",
        "\n",
        "> *Your response here!*"
      ]
    },
    {
      "cell_type": "code",
      "metadata": {
        "id": "KcZc0-el23Jm"
      },
      "source": [
        "visualize_adjacency(\"Stanford Adjacency Matrix\", stanford_adjacency)"
      ],
      "execution_count": null,
      "outputs": []
    },
    {
      "cell_type": "markdown",
      "metadata": {
        "id": "p3BqRTgf23Jm"
      },
      "source": [
        "<div style=\"color: #a00; font-weight: 800; padding: 1em 0; border-top: 0.4em solid #eee;\">Checkoff: Graph on map visualization</div>\n",
        "\n",
        "The `visualize_map` function can also take an adjacency matrix to visualize via the named `A` argument.\n",
        "\n",
        "Run the following code cell to visualize it, what do you see? Is this harder or easier to interpret than the adjacency matrix itself?\n",
        "\n",
        "> *Your response here!*"
      ]
    },
    {
      "cell_type": "code",
      "metadata": {
        "id": "1N0S6BnN23Jm"
      },
      "source": [
        "visualize_map(\"Stanford Flyable Zones Connected\", stanford_map, A=stanford_adjacency)"
      ],
      "execution_count": null,
      "outputs": []
    },
    {
      "cell_type": "markdown",
      "metadata": {
        "id": "BO8vJbqv23Jn"
      },
      "source": [
        "## 4. Finding Neighbors\n",
        "\n",
        "### a) The neighbors of a vertex...\n",
        "\n",
        "The set neighbors of a node in an undirected graph are those nodes which are connected to it by an edge!\n",
        "\n",
        "Let's write a function that get's the neighbors of vertices"
      ]
    },
    {
      "cell_type": "markdown",
      "metadata": {
        "id": "8V4uCe1s23Jn"
      },
      "source": [
        "<div style=\"color: #a00; font-weight: 800; padding: 1em 0; border-top: 0.4em solid #eee;\">Checkoff: Neighbors</div>\n",
        "\n",
        "Complete the following function to get the neighbors of vertex `k`."
      ]
    },
    {
      "cell_type": "code",
      "metadata": {
        "id": "2ht1yDuS23Jn"
      },
      "source": [
        "def neighbors(A, k):\n",
        "    \"\"\"Get the neighbors of vertex `i`\n",
        "\n",
        "    Args:\n",
        "        A (np.ndarray): Adjacency matrix\n",
        "        i (int): vertex we care about.\n",
        "    \"\"\"\n",
        "    assert len(A.shape) == 2\n",
        "    assert A.shape[0] == A.shape[1]\n",
        "\n",
        "    # we have o vertices\n",
        "    o = A.shape[0]\n",
        "    assert k < o\n",
        "\n",
        "    # ***** Start of your code *****\n",
        "    assert False, \"Delete this line!\"\n",
        "    # ***** End of your code *****"
      ],
      "execution_count": null,
      "outputs": []
    },
    {
      "cell_type": "markdown",
      "metadata": {
        "id": "qCxfXewt23Jo"
      },
      "source": [
        "Does vertex 0, the top left have any neighbors?"
      ]
    },
    {
      "cell_type": "code",
      "metadata": {
        "id": "zRTX0JcT23Jo"
      },
      "source": [
        "assert neighbors(stanford_adjacency, 0) == []"
      ],
      "execution_count": null,
      "outputs": []
    },
    {
      "cell_type": "markdown",
      "metadata": {
        "id": "KKJSTHlX23Jp"
      },
      "source": [
        "Does vertex 29?"
      ]
    },
    {
      "cell_type": "code",
      "metadata": {
        "id": "nE-fIeUV23Jp"
      },
      "source": [
        "assert neighbors(stanford_adjacency, 29) == [9, 28, 49]"
      ],
      "execution_count": null,
      "outputs": []
    },
    {
      "cell_type": "markdown",
      "metadata": {
        "id": "OsBRK4RK23Jp"
      },
      "source": [
        "## 5. Sidebar: Queues\n",
        "\n",
        "We are headed towards search algorithms! But a quick detour...we need to talk about queues!\n",
        "\n",
        "### a) Queues...\n",
        "Remember, queues are useful for storing a list of elements, with the semantics FIFO or LIFO.\n",
        "\n",
        "* FIFO stands for first in first out; the item which was added to the queue earliest will be the next to be popped.\n",
        "* LIFO stands for last in first out; the item which was most recently added to the queue will be the next to be popped.\n",
        "\n",
        "People often call LIFO queues **stacks** and call FIFO queues just **queues**. In lecture, we also saw priority queues, in which the queue elements are associated with a priority value, and popping gives the highest priority element.\n",
        "\n",
        "For the search algorithm we will implement, we only need FIFO queues, which we will call queues."
      ]
    },
    {
      "cell_type": "markdown",
      "metadata": {
        "id": "8w4alG-V23Jp"
      },
      "source": [
        "### b) Queues via lists"
      ]
    },
    {
      "cell_type": "markdown",
      "metadata": {
        "id": "37_fw3sZ23Jp"
      },
      "source": [
        "For us, a queue is just a list:"
      ]
    },
    {
      "cell_type": "code",
      "metadata": {
        "id": "W5acbLmy23Jq"
      },
      "source": [
        "queue = []"
      ],
      "execution_count": null,
      "outputs": []
    },
    {
      "cell_type": "markdown",
      "metadata": {
        "id": "RTVCv6Wk23Jq"
      },
      "source": [
        "We can append (or push or add) to the queue"
      ]
    },
    {
      "cell_type": "code",
      "metadata": {
        "id": "kudCE0Nh23Jq"
      },
      "source": [
        "queue.append(1)\n",
        "queue.append(2)\n",
        "queue"
      ],
      "execution_count": null,
      "outputs": []
    },
    {
      "cell_type": "markdown",
      "metadata": {
        "id": "mYg5AKLp23Jq"
      },
      "source": [
        "We can remove (or pop or get) from the queue"
      ]
    },
    {
      "cell_type": "code",
      "metadata": {
        "id": "3fwqIdp-23Jr"
      },
      "source": [
        "elem = queue.pop(0)\n",
        "print(f\"popped {elem} from queue which is now {queue}\")"
      ],
      "execution_count": null,
      "outputs": []
    },
    {
      "cell_type": "code",
      "metadata": {
        "id": "JJ7YXWf523Jr"
      },
      "source": [
        "elem = queue.pop(0)\n",
        "print(f\"popped {elem} from queue which is now {queue}\")"
      ],
      "execution_count": null,
      "outputs": []
    },
    {
      "cell_type": "markdown",
      "metadata": {
        "id": "4LXyrilK23Jr"
      },
      "source": [
        "What happens if we pop from a queue when it's empty? Uncomment the next line to find out!"
      ]
    },
    {
      "cell_type": "code",
      "metadata": {
        "id": "K56Kzqfj23Jr"
      },
      "source": [
        "# elem = queue.pop(0)"
      ],
      "execution_count": null,
      "outputs": []
    },
    {
      "cell_type": "markdown",
      "metadata": {
        "id": "5TQ5r9SH23Jr"
      },
      "source": [
        "So in general, we might need to check:"
      ]
    },
    {
      "cell_type": "code",
      "metadata": {
        "id": "mRt9z87323Js"
      },
      "source": [
        "if len(queue) > 0:\n",
        "    print(\"can pop\")\n",
        "else:\n",
        "    print(\"can't pop\")"
      ],
      "execution_count": null,
      "outputs": []
    },
    {
      "cell_type": "markdown",
      "metadata": {
        "id": "ESCBP4VI23Js"
      },
      "source": [
        "<div style=\"color: #a00; font-weight: 800; padding: 1em 0; border-top: 0.4em solid #eee;\">Checkoff: Queue Basics</div>\n",
        "\n",
        "Because of this let's write two functions:\n",
        "\n",
        "* one called `push` to add elements to a queue\n",
        "* one called `pop` to get an element and shorten the queue\n",
        "\n",
        "Hint: `push` is one line! `pop` requires an `if` statement checking the length of the queue!"
      ]
    },
    {
      "cell_type": "code",
      "metadata": {
        "id": "f1odZ0Vb23Js"
      },
      "source": [
        "def push(q, elem):\n",
        "    \"\"\"Add an element to the queue\n",
        "\n",
        "    Args:\n",
        "        q (list): the queue.\n",
        "        elem (Any): the element to add.\n",
        "    \"\"\"\n",
        "    # YOUR CODE HERE\n",
        "    # ***** Start of your code *****\n",
        "    assert False, \"Delete this line!\"\n",
        "    # ***** End of your code *****\n",
        "\n",
        "def pop(q):\n",
        "    \"\"\"Get an element from a queue, if there are any.\n",
        "    If there is nothing in the queue, return the value None.\n",
        "\n",
        "    Args:\n",
        "        q (list): the queue.\n",
        "    Returns:\n",
        "        obj\n",
        "    \"\"\"\n",
        "\n",
        "    # YOUR CODE HERE\n",
        "    # ***** Start of your code *****\n",
        "    assert False, \"Delete this line!\"\n",
        "    # ***** End of your code *****\n",
        "\n",
        "test_list = [1, 2, 3, 4, 5]\n",
        "push(test_list, 6)\n",
        "assert len(test_list) == 6\n",
        "assert test_list[-1] == 6\n",
        "assert pop(test_list) == 1\n",
        "assert len(test_list) == 5"
      ],
      "execution_count": null,
      "outputs": []
    },
    {
      "cell_type": "markdown",
      "metadata": {
        "id": "Thcg79Nx23Js"
      },
      "source": [
        "<div style=\"color: #a00; font-weight: 800; padding: 1em 0; border-top: 0.4em solid #eee;\">Checkoff: Using `push` and `pop`</div>\n",
        "\n",
        "In the following cell, create a queue. Push (1,2), (3,4), (5,6) to it, then pop from the queue twice, then push (11,12).\n",
        "\n",
        "What does the queue contain?\n",
        "> *Your response here!*"
      ]
    },
    {
      "cell_type": "code",
      "metadata": {
        "id": "D9aAxW4R23Jt"
      },
      "source": [
        "queue = []\n",
        "# YOUR CODE HERE\n",
        "# ***** Start of your code *****\n",
        "assert False, \"Delete this line!\"\n",
        "# ***** End of your code *****\n",
        "print(queue)"
      ],
      "execution_count": null,
      "outputs": []
    },
    {
      "cell_type": "markdown",
      "metadata": {
        "id": "9iAB5Rud23Jt"
      },
      "source": [
        "That was our whole sidebar! We will use queues to keep track of our search in the graph!"
      ]
    },
    {
      "cell_type": "markdown",
      "metadata": {
        "id": "WLeEFui1bvcd"
      },
      "source": [
        "## STOP HERE FOR DAY 1! We will continue this tomorrow :)"
      ]
    },
    {
      "cell_type": "markdown",
      "metadata": {
        "id": "ykxDeXLP23Jt"
      },
      "source": [
        "## 6. Search\n",
        "\n",
        "Remember we will be searching through the graph.\n",
        "\n",
        "We will have a designated start vertex, and we are interested in the distances to all the other vertices. If we have to travel two edges to get from vertex `u` to vertex `v` we will say that these the cost of going from `u` to `v` is 2.\n",
        "\n",
        "Review the lecture slides for the breadth first search algorithm.\n",
        "\n",
        "### a) Implementation"
      ]
    },
    {
      "cell_type": "markdown",
      "metadata": {
        "id": "N66paquK23Jt"
      },
      "source": [
        "<div style=\"color: #a00; font-weight: 800; padding: 1em 0; border-top: 0.4em solid #eee;\">Checkoff: Uniform Cost Search</div>\n",
        "\n",
        "Complete the implementation of the uniform cost search algorithm before."
      ]
    },
    {
      "cell_type": "markdown",
      "metadata": {
        "id": "TYDOn2h323Jt"
      },
      "source": [
        "\n",
        "We have declared some variables to get you started, including:\n",
        " * `costs` the vector of costs\n",
        " * `queue` the search queue; store tuples of `(vertex,cost)` on the queue.\n",
        " * `seen` the dictionary of already-seen nodes; use to only add vertices to the queue once.\n",
        "\n",
        "Hint: loop while there is still something in the queue, and pop an element off; get the vertex it references and the cost. Mark it as seen. If it is the goal, return the costs. Otherwise, loop over its neighbors and add then ones we have not yet seen to the queue with cost one higher than the current cost. Once the queue is empty, return the costs."
      ]
    },
    {
      "cell_type": "code",
      "metadata": {
        "id": "dKgf9IR123Ju"
      },
      "source": [
        "def uniform_cost_search(A, start, goal):\n",
        "    \"\"\"Perform a breadth first search, returning distances from nodes.\n",
        "       If goal is specified, return costs once goal is found.\n",
        "       If the distance to the node is np.inf, then the nodes are unconnected in the graph.\n",
        "\n",
        "    Args:\n",
        "        A (np.ndarray): Adjacency matrix representing graph to search.\n",
        "        start (int): vertex to start search at.\n",
        "        goal (int): vertex indicating goal node.\n",
        "    \"\"\"\n",
        "    # o is the number of nodes\n",
        "    o = A.shape[0]\n",
        "\n",
        "    # costs (or distances of path to node)\n",
        "    # inf represents that these nodes are not connected.\n",
        "    costs = np.inf * np.ones((o,))\n",
        "\n",
        "    # Begin our search at start node start, which is distance 0\n",
        "    queue = [(start, 0)]\n",
        "\n",
        "    # Dictionary of nodes we have already seen.\n",
        "    # keys are ints, and values are booleans.\n",
        "    seen = {}\n",
        "\n",
        "    # YOUR CODE HERE\n",
        "    # ***** Start of your code *****\n",
        "    assert False, \"Delete this line!\"\n",
        "    # ***** End of your code *****\n",
        "    return costs"
      ],
      "execution_count": null,
      "outputs": []
    },
    {
      "cell_type": "markdown",
      "metadata": {
        "id": "FxytMUgj23Ju"
      },
      "source": [
        "### b) A search\n",
        "\n",
        "Let's search for a path from cell [0, 10] to cell [8, 4]"
      ]
    },
    {
      "cell_type": "code",
      "metadata": {
        "id": "oNeNDY2H23Ju"
      },
      "source": [
        "stanford_start = [0, 10]\n",
        "stanford_end = [8, 4]"
      ],
      "execution_count": null,
      "outputs": []
    },
    {
      "cell_type": "markdown",
      "metadata": {
        "id": "MLU38d2H23Ju"
      },
      "source": [
        "Let's visualize this."
      ]
    },
    {
      "cell_type": "code",
      "metadata": {
        "id": "66uEPYob23Ju"
      },
      "source": [
        "visualize_map(\"Start to End\", stanford_map, start=stanford_start, end=stanford_end)"
      ],
      "execution_count": null,
      "outputs": []
    },
    {
      "cell_type": "markdown",
      "metadata": {
        "id": "BvLYMLjk23Jv"
      },
      "source": [
        "We need these as vertices"
      ]
    },
    {
      "cell_type": "code",
      "metadata": {
        "id": "I-Vk9CBP23Jv"
      },
      "source": [
        "stanford_start_vertex = vertex_of_cell(stanford_map, stanford_start[0], stanford_start[1])\n",
        "stanford_end_vertex = vertex_of_cell(stanford_map, stanford_end[0], stanford_end[1])"
      ],
      "execution_count": null,
      "outputs": []
    },
    {
      "cell_type": "markdown",
      "metadata": {
        "id": "srm4LNdZ23Jv"
      },
      "source": [
        "We can use our function!"
      ]
    },
    {
      "cell_type": "code",
      "metadata": {
        "id": "gANDzsEY23Jv"
      },
      "source": [
        "stanford_costs = uniform_cost_search(\n",
        "    stanford_adjacency,\n",
        "    stanford_start_vertex,\n",
        "    stanford_end_vertex,\n",
        ")"
      ],
      "execution_count": null,
      "outputs": []
    },
    {
      "cell_type": "markdown",
      "metadata": {
        "id": "PrIthvTH23Jv"
      },
      "source": [
        "We can use a helper function to visualize the costs! Yellow is higher!"
      ]
    },
    {
      "cell_type": "code",
      "metadata": {
        "id": "V-XFt6kG23Jw"
      },
      "source": [
        "visualize_costs(\n",
        "    \"Distances from Start on Stanford Map\",\n",
        "    stanford_map,\n",
        "    stanford_costs,\n",
        "    start=stanford_start,\n",
        "    end=stanford_end,\n",
        ")"
      ],
      "execution_count": null,
      "outputs": []
    },
    {
      "cell_type": "markdown",
      "metadata": {
        "id": "F-rRxfIL23Jw"
      },
      "source": [
        "<div style=\"color: #a00; font-weight: 800; padding: 1em 0; border-top: 0.4em solid #eee;\">Checkoff: Cost Visualization</div>\n",
        "\n",
        "Which color corresponds to a far distance from the start?\n",
        "\n",
        "> *Your response here*"
      ]
    },
    {
      "cell_type": "markdown",
      "metadata": {
        "id": "fsVT2_wi23Jw"
      },
      "source": [
        "### c) Path reconstruction\n",
        "\n",
        "Now that we have the shortest distances to each vertex, we need to construct the shortest path!"
      ]
    },
    {
      "cell_type": "markdown",
      "metadata": {
        "id": "JLSOTQYC23Jw"
      },
      "source": [
        "<div style=\"color: #a00; font-weight: 800; padding: 1em 0; border-top: 0.4em solid #eee;\">Checkoff: Shortest Neighbor</div>\n",
        "\n",
        "Given a vertex `k` we want to find the neighbor of this vertex that has the smallest cost.\n",
        "\n",
        "Complete the `shortest_neighbor` function."
      ]
    },
    {
      "cell_type": "code",
      "metadata": {
        "id": "jq-iL6kU23Jx"
      },
      "source": [
        "def shortest_neighbor(A, costs, k):\n",
        "    \"\"\"Find the neighbor to vertex `k` with the shortest distance.\n",
        "\n",
        "    Args:\n",
        "        A (np.ndarray): Adjacency matrix representing graph.\n",
        "        costs (np.ndarray): costs to each vertex from some start node.\n",
        "        k (int): vertex whose neighbors we should consider\n",
        "    \"\"\"\n",
        "    # YOUR CODE HERE\n",
        "    # ***** Start of your code *****\n",
        "    assert False, \"Delete this line!\"\n",
        "    # ***** End of your code *****"
      ],
      "execution_count": null,
      "outputs": []
    },
    {
      "cell_type": "markdown",
      "metadata": {
        "id": "B71u7Pat23Jx"
      },
      "source": [
        "<div style=\"color: #a00; font-weight: 800; padding: 1em 0; border-top: 0.4em solid #eee;\">Checkoff: Shortest Path</div>\n",
        "\n",
        "Complete the function `shortest_path`. You should use your `shortest_neighbor` function.\n",
        "\n",
        "Hint: Start at the goal, find the cheapest neighbor, then find the cheapest neighbor of that neighbor, and so on..."
      ]
    },
    {
      "cell_type": "code",
      "metadata": {
        "id": "KXcNDgyQ23Jx"
      },
      "source": [
        "def shortest_path(A, costs, start, goal):\n",
        "    \"\"\"Find the shortest_path to goal from start. Costs are distances from start.\n",
        "\n",
        "    Args:\n",
        "        A (np.ndarray): Adjacency matrix representing graph.\n",
        "        costs (np.ndarray): costs (distances) to each vertex from `start`.\n",
        "        start (int): vertex to start at.\n",
        "        goal (int): vertex to reach.\n",
        "    \"\"\"\n",
        "\n",
        "    # YOUR CODE HERE\n",
        "    # ***** Start of your code *****\n",
        "    assert False, \"Delete this line!\"\n",
        "    # ***** End of your code *****"
      ],
      "execution_count": null,
      "outputs": []
    },
    {
      "cell_type": "markdown",
      "metadata": {
        "id": "jVQf71af23Jx"
      },
      "source": [
        "Let's use this function to compute the path..."
      ]
    },
    {
      "cell_type": "code",
      "metadata": {
        "id": "79i7D-fA23Jx"
      },
      "source": [
        "stanford_path = shortest_path(\n",
        "    stanford_adjacency,\n",
        "    stanford_costs,\n",
        "    stanford_start_vertex,\n",
        "    stanford_end_vertex,\n",
        ")\n",
        "print(stanford_path)"
      ],
      "execution_count": null,
      "outputs": []
    },
    {
      "cell_type": "markdown",
      "metadata": {
        "id": "Hy5O--E123Jy"
      },
      "source": [
        "We can use the helper `visualize_map` function with keyword argument `path` to visualize the path as well!"
      ]
    },
    {
      "cell_type": "code",
      "metadata": {
        "id": "Gyy1fDdX23Jy"
      },
      "source": [
        "visualize_map(\"Start to End\", stanford_map, start=stanford_start, end=stanford_end, path=stanford_path)"
      ],
      "execution_count": null,
      "outputs": []
    },
    {
      "cell_type": "markdown",
      "metadata": {
        "id": "cYR96nOc23Jy"
      },
      "source": [
        "Nice! But let's see the drone **fly**!"
      ]
    },
    {
      "cell_type": "code",
      "metadata": {
        "id": "1BN-wt4q23Jy"
      },
      "source": [
        "print(stanford_path)"
      ],
      "execution_count": null,
      "outputs": []
    },
    {
      "cell_type": "code",
      "metadata": {
        "id": "oYAJcFPi23Jy"
      },
      "source": [
        "visualize_path(stanford_map, stanford_path)"
      ],
      "execution_count": null,
      "outputs": []
    },
    {
      "cell_type": "markdown",
      "metadata": {
        "id": "CJc9bIeE23Jz"
      },
      "source": [
        "For your project you can try this on much more complicated maps, or on maps constructed from satellite imagery. Additionally, you can try more sophisticated graph search algorithms!"
      ]
    },
    {
      "cell_type": "markdown",
      "metadata": {
        "id": "q0rwObPK23Jz"
      },
      "source": [
        "## 7. Mystery Map\n",
        "\n",
        "To see how all our code can work on any map, try out this mystery map!"
      ]
    },
    {
      "cell_type": "code",
      "metadata": {
        "id": "CRe6d7un23Jz"
      },
      "source": [
        "mystery_map = np.array([\n",
        "    [0, 0, 0, 0, 0,],\n",
        "    [1, 1, 1, 1, 1,],\n",
        "    [1, 0, 0, 1, 0,],\n",
        "    [1, 0, 1, 1, 0,],\n",
        "    [1, 1, 1, 1, 1],\n",
        "])\n",
        "mystery_start = [4, 0]\n",
        "mystery_end = [1, 4]"
      ],
      "execution_count": null,
      "outputs": []
    },
    {
      "cell_type": "markdown",
      "metadata": {
        "id": "eHNqiBjB23Jz"
      },
      "source": [
        "<div style=\"color: #a00; font-weight: 800; padding: 1em 0; border-top: 0.4em solid #eee;\">Checkoff: Visualize Mystery Map and the Start/End</div>\n",
        "\n",
        "Write code to visualize the mystery map with start and end goals!"
      ]
    },
    {
      "cell_type": "code",
      "metadata": {
        "id": "XkaW6RwK23Jz"
      },
      "source": [
        "# YOUR CODE HERE\n",
        "# ***** Start of your code *****\n",
        "assert False, \"Delete this line!\"\n",
        "# ***** End of your code *****"
      ],
      "execution_count": null,
      "outputs": []
    },
    {
      "cell_type": "markdown",
      "metadata": {
        "id": "szFaFR_u23J0"
      },
      "source": [
        "<div style=\"color: #a00; font-weight: 800; padding: 1em 0; border-top: 0.4em solid #eee;\">Checkoff: Find and Visualize Path on Mystery Map</div>\n",
        "\n",
        "Write code to visualize the mystery map with start and end goals!\n",
        "\n",
        "Hint: It involves several lines, but they are the same as what we did for the Stanford map!"
      ]
    },
    {
      "cell_type": "markdown",
      "metadata": {
        "id": "vr6o4V3A23J0"
      },
      "source": [
        "### a) Computing and Visualizing Costs"
      ]
    },
    {
      "cell_type": "code",
      "metadata": {
        "scrolled": true,
        "id": "9SXZMetQ23J0"
      },
      "source": [
        "# YOUR CODE HERE\n",
        "# ***** Start of your code *****\n",
        "assert False, \"Delete this line!\"\n",
        "# ***** End of your code *****"
      ],
      "execution_count": null,
      "outputs": []
    },
    {
      "cell_type": "markdown",
      "metadata": {
        "id": "tyXxM2hn23J0"
      },
      "source": [
        "### b) Compute and Visualizing\n",
        "\n",
        "...using `shortest_path` and `visualize_map`!"
      ]
    },
    {
      "cell_type": "code",
      "metadata": {
        "id": "TcQlnQIY23J0"
      },
      "source": [
        "# YOUR CODE HERE\n",
        "# ***** Start of your code *****\n",
        "assert False, \"Delete this line!\"\n",
        "# ***** End of your code *****"
      ],
      "execution_count": null,
      "outputs": []
    },
    {
      "cell_type": "markdown",
      "metadata": {
        "id": "1YFJU2X523J1"
      },
      "source": [
        "### c) Animation Visualization\n",
        "\n",
        "Finally, we can use `visualize_path` to animate the flight!"
      ]
    },
    {
      "cell_type": "code",
      "metadata": {
        "id": "5WvLm0ru23J1"
      },
      "source": [
        "visualize_path(mystery_map, mystery_path)"
      ],
      "execution_count": null,
      "outputs": []
    },
    {
      "cell_type": "markdown",
      "metadata": {
        "id": "hal-AnoI23J1"
      },
      "source": [
        "Congratulations, you've completed a whirlwind tour of graphs and graph search algorithms!"
      ]
    }
  ]
}